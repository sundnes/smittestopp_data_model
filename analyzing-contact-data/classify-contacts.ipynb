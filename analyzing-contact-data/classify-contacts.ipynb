{
 "cells": [
  {
   "cell_type": "code",
   "execution_count": 12,
   "id": "083044e6",
   "metadata": {},
   "outputs": [],
   "source": [
    "import pandas as pd\n",
    "import numpy as np\n",
    "from sklearn.model_selection import train_test_split\n",
    "from sklearn.ensemble import RandomForestClassifier\n",
    "from sklearn import metrics\n",
    "import matplotlib.pyplot as plt\n",
    "import sys\n",
    "\n",
    "\n",
    "## This function fits a random forest model to the contact data. It takes as an inputa set of labeled contacts \n",
    "## please refer to Supplementary Note 5 for extra information about data labeling \n",
    "def contact_ml_model(input_file): \n",
    "    features = pd.read_csv(input_file)\n",
    "    features = pd.get_dummies(features)\n",
    "    # Labels are the values we want to predict\n",
    "    labels = np.array(features['label'])\n",
    "    # Remove the labels from the features\n",
    "    # axis 1 refers to the columns\n",
    "    features= features.drop('label', axis = 1)\n",
    "    # Saving feature names for later use\n",
    "    feature_list = list(features.columns)\n",
    "    # Convert to numpy array\n",
    "    features = np.array(features)\n",
    "    # Split the data into training and testing sets\n",
    "    train_features, test_features, train_labels, test_labels = train_test_split(features, labels, test_size = 0.25, random_state = 42)\n",
    "    clf = RandomForestClassifier(n_estimators=20, max_depth=8,random_state=1, n_jobs=2, oob_score = True)\n",
    "    clf.fit(train_features,train_labels)\n",
    "    y_pred = clf.predict(test_features)\n",
    "    y_pred_train = clf.predict(train_features)\n",
    "    accuracy = metrics.accuracy_score(test_labels, y_pred)\n",
    "    accuracy_train = metrics.accuracy_score(train_labels, y_pred_train)\n",
    "    return clf, accuracy, accuracy_train   \n",
    "\n",
    "## this function uses the random forest model abovve to classify contacts as close or random \n",
    "def classify_contacts(clf,input_contacts):\n",
    "    contacts = pd.read_csv(input_contacts)\n",
    "    features = pd.get_dummies(contacts)\n",
    "    features= features.drop('dev_a', axis = 1)\n",
    "    features= features.drop('dev_b', axis = 1)\n",
    "    features= features.drop('label', axis = 1)\n",
    "    # Saving feature names for later use\n",
    "    features_list = list(features.columns)\n",
    "    # Convert to numpy array\n",
    "    features = np.array(features)\n",
    "    calssification = clf.predict(features)\n",
    "    return calssification"
   ]
  }
 ],
 "metadata": {
  "kernelspec": {
   "display_name": "Python 3",
   "language": "python",
   "name": "python3"
  },
  "language_info": {
   "codemirror_mode": {
    "name": "ipython",
    "version": 3
   },
   "file_extension": ".py",
   "mimetype": "text/x-python",
   "name": "python",
   "nbconvert_exporter": "python",
   "pygments_lexer": "ipython3",
   "version": "3.8.10"
  }
 },
 "nbformat": 4,
 "nbformat_minor": 5
}
